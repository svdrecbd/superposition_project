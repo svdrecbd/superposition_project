{
 "cells": [
  {
   "cell_type": "code",
   "execution_count": null,
   "metadata": {
    "vscode": {
     "languageId": "plaintext"
    }
   },
   "outputs": [],
   "source": [
    "import json\n",
    "import matplotlib.pyplot as plt\n",
    "import pandas as pd\n",
    "\n",
    "# Load the results data\n",
    "with open(\"../results/interference_results.json\") as f:\n",
    "    d = json.load(f)\n",
    "\n",
    "df = pd.DataFrame(d)\n",
    "\n",
    "# Plotting\n",
    "plt.figure(figsize=(8, 5))\n",
    "alphas = sorted(df[\"alpha\"].unique())\n",
    "\n",
    "# Get data for the code feature\n",
    "code_df = df[df[\"feature\"] == \"code_feature\"].sort_values(\"alpha\")\n",
    "plt.plot(code_df[\"alpha\"], code_df[\"math_margin_mean\"], marker='o', linestyle='-', label=\"Steered Code Feature\")\n",
    "\n",
    "# Get data for the random control\n",
    "random_df = df[df[\"feature\"] == \"random_control\"].sort_values(\"alpha\")\n",
    "plt.plot(random_df[\"alpha\"], random_df[\"math_margin_mean\"], marker='x', linestyle='--', label=\"Random Control Feature\")\n",
    "\n",
    "plt.xlabel(\"Steering Coefficient (alpha)\")\n",
    "plt.ylabel(\"Δ Math Logit Margin\")\n",
    "plt.title(\"Interference Curve: Steering Code Feature vs. Math Margin\")\n",
    "plt.legend()\n",
    "plt.grid(True, linestyle='--', alpha=0.6)\n",
    "plt.show()"
   ]
  }
 ],
 "metadata": {
  "language_info": {
   "name": "python"
  }
 },
 "nbformat": 4,
 "nbformat_minor": 2
}
